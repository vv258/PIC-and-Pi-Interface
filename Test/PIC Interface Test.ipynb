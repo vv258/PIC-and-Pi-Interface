{
 "cells": [
  {
   "cell_type": "markdown",
   "metadata": {},
   "source": [
    "Setup"
   ]
  },
  {
   "cell_type": "code",
   "execution_count": 1,
   "metadata": {},
   "outputs": [],
   "source": [
    "import sys\n",
    "sys.path.append('../')\n",
    "import PIC32Interface\n",
    "import time\n",
    "import math"
   ]
  },
  {
   "cell_type": "markdown",
   "metadata": {},
   "source": [
    "GPIO Test"
   ]
  },
  {
   "cell_type": "code",
   "execution_count": 2,
   "metadata": {},
   "outputs": [
    {
     "name": "stdout",
     "output_type": "stream",
     "text": [
      "255\n",
      "Loopback Successfull\n"
     ]
    }
   ],
   "source": [
    "#Turn ON all pins\n",
    "WriteData=255\n",
    "PIC32Interface.WriteGPIO(WriteData)\n",
    "ReadData=PIC32Interface.ReadGPIO()\n",
    "print(ReadData)\n",
    "if(ReadData==WriteData):\n",
    "    print (\"Loopback Successfull\")\n",
    "else:\n",
    "    print (\"Loopback Unsuccessfull\")\n"
   ]
  },
  {
   "cell_type": "markdown",
   "metadata": {},
   "source": [
    "DAC Test"
   ]
  },
  {
   "cell_type": "code",
   "execution_count": 3,
   "metadata": {},
   "outputs": [],
   "source": [
    "#Fixed Voltage\n",
    "VA=(int)(4096*2.0/3.3)\n",
    "VB=(int)(4096*2.5/3.3)\n",
    "PIC32Interface.SetDACA(VA)\n",
    "PIC32Interface.SetDACB(VB)"
   ]
  },
  {
   "cell_type": "code",
   "execution_count": 4,
   "metadata": {},
   "outputs": [],
   "source": [
    "#generate data\n",
    "sawdata =list()\n",
    "for j in range(0,16):\n",
    "    for i in range(0,16):\n",
    "        sawdata.append(i*16)\n",
    "        sawdata.append(j)\n",
    "        \n",
    "for j in range(15,-1,-1):\n",
    "    for i in range(15,-1,-1):\n",
    "        sawdata.append(i*16)\n",
    "        sawdata.append(j)\n",
    "\n",
    "PIC32Interface.WriteBuffer(0,sawdata)\n",
    "\n",
    "sinedata =list()\n",
    "data =list()\n",
    "for i in range(0,512):\n",
    "    data.append(2047*math.sin(i*2*math.pi/512)+2047)\n",
    "\n",
    "for i in range(0,512):\n",
    "    MSB,LSB=divmod(int(data[i]),256)\n",
    "    sinedata.append(LSB)\n",
    "    sinedata.append(MSB)   \n",
    "\n",
    "PIC32Interface.WriteBuffer(1,sinedata)\n"
   ]
  },
  {
   "cell_type": "code",
   "execution_count": 5,
   "metadata": {},
   "outputs": [],
   "source": [
    "PIC32Interface.WriteBuffer(0,sawdata)\n",
    "PIC32Interface.WriteBuffer(1,sinedata)\n",
    "PIC32Interface.ConfigureDACAB(0,1,1)\n",
    "#play buffer 0 and 1 continously\n",
    "PIC32Interface.StartDACOutput(10,512)\n",
    "#use 512 samples from buffer A and B at 10 khz for waveform generation\n",
    "#resultant waveform will have frequency =(10/512) khz"
   ]
  },
  {
   "cell_type": "markdown",
   "metadata": {},
   "source": [
    "PWM Test"
   ]
  },
  {
   "cell_type": "code",
   "execution_count": 6,
   "metadata": {},
   "outputs": [],
   "source": [
    "PIC32Interface.SetPWMPeriod(22, 3)\n",
    "PIC32Interface.EnablePWM1(13,2)\n",
    "PIC32Interface.EnablePWM2(13,2)\n",
    "\n"
   ]
  },
  {
   "cell_type": "code",
   "execution_count": 7,
   "metadata": {},
   "outputs": [],
   "source": [
    "PIC32Interface.EnablePWM1(0,2)\n",
    "PIC32Interface.EnablePWM2(0,2)"
   ]
  },
  {
   "cell_type": "code",
   "execution_count": null,
   "metadata": {},
   "outputs": [],
   "source": [
    "while(not((PIC32Interface.CheckBufferStatus())and 0x08) ):\n",
    "    pass\n",
    "#wait till buffer 3 ADC sampling is complete"
   ]
  }
 ],
 "metadata": {
  "kernelspec": {
   "display_name": "Python 3",
   "language": "python",
   "name": "python3"
  },
  "language_info": {
   "codemirror_mode": {
    "name": "ipython",
    "version": 3
   },
   "file_extension": ".py",
   "mimetype": "text/x-python",
   "name": "python",
   "nbconvert_exporter": "python",
   "pygments_lexer": "ipython3",
   "version": "3.5.2"
  },
  "widgets": {
   "state": {},
   "version": "1.1.2"
  }
 },
 "nbformat": 4,
 "nbformat_minor": 2
}
