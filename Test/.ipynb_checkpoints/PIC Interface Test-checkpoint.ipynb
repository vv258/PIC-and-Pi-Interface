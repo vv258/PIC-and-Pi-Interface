{
 "cells": [
  {
   "cell_type": "markdown",
   "metadata": {},
   "source": [
    "Setup"
   ]
  },
  {
   "cell_type": "code",
   "execution_count": 1,
   "metadata": {},
   "outputs": [],
   "source": [
    "import sys\n",
    "sys.path.append('../')\n",
    "import PIC32Interface\n",
    "import time\n",
    "import math"
   ]
  },
  {
   "cell_type": "markdown",
   "metadata": {},
   "source": [
    "GPIO Test"
   ]
  },
  {
   "cell_type": "code",
   "execution_count": 3,
   "metadata": {},
   "outputs": [
    {
     "name": "stdout",
     "output_type": "stream",
     "text": [
      "1\n",
      "Loopback Unsuccessfull\n"
     ]
    }
   ],
   "source": [
    "WriteData=20\n",
    "PIC32Interface.WriteGPIO(WriteData)\n",
    "ReadData=PIC32Interface.ReadGPIO()\n",
    "print(ReadData)\n",
    "if(ReadData==WriteData):\n",
    "    print (\"Loopback Successfull\")\n",
    "else:\n",
    "    print (\"Loopback Unsuccessfull\")\n"
   ]
  },
  {
   "cell_type": "markdown",
   "metadata": {},
   "source": [
    "DAC Test"
   ]
  },
  {
   "cell_type": "code",
   "execution_count": null,
   "metadata": {},
   "outputs": [],
   "source": [
    "#Fixed Voltage\n",
    "VA=4096*2.0/3.3\n",
    "VB=4096*2.5/3.3\n",
    "PIC32Interface.SetDACA(VA)\n",
    "PIC32Interface.SetDACB(VB)"
   ]
  },
  {
   "cell_type": "code",
   "execution_count": null,
   "metadata": {},
   "outputs": [],
   "source": [
    "#generate data\n",
    "sawdata =list()\n",
    "for j in range(0,16):\n",
    "    for i in range(0,16):\n",
    "        sawdata.append(i*16)\n",
    "        sawdata.append(j)\n",
    "        \n",
    "for j in range(15,-1,-1):\n",
    "    for i in range(15,-1,-1):\n",
    "        sawdata.append(i*16)\n",
    "        sawdata.append(j)\n",
    "\n",
    "PIC32Interface.WriteBuffer(0,sawdata)\n",
    "\n",
    "sinedata =list()\n",
    "data =list()\n",
    "for i in range(0,512):\n",
    "    data.append(2047*math.sin(i*2*math.pi/512)+2047)\n",
    "\n",
    "for i in range(0,512):\n",
    "    MSB,LSB=divmod(int(data[i]),256)\n",
    "    sinedata.append(LSB)\n",
    "    sinedata.append(MSB)   \n",
    "\n",
    "PIC32Interface.WriteBuffer(1,sinedata)\n"
   ]
  },
  {
   "cell_type": "code",
   "execution_count": null,
   "metadata": {},
   "outputs": [],
   "source": [
    "#Start DAc\n",
    "PIC32Interface.ConfigureDACAB(0,1,1)\n",
    "PIC32Interface.StartDACOutput(10,512)"
   ]
  },
  {
   "cell_type": "markdown",
   "metadata": {},
   "source": [
    "PWM Test"
   ]
  },
  {
   "cell_type": "code",
   "execution_count": null,
   "metadata": {},
   "outputs": [],
   "source": [
    "PIC32Interface.SetPWMPeriod(22, 3)\n",
    "#time.sleep(0.1)\n",
    "PIC32Interface.EnablePWM1(13,2)\n",
    "PIC32Interface.EnablePWM2(13,2)\n",
    "\n"
   ]
  }
 ],
 "metadata": {
  "kernelspec": {
   "display_name": "Python 2",
   "language": "python",
   "name": "python2"
  },
  "language_info": {
   "codemirror_mode": {
    "name": "ipython",
    "version": 2
   },
   "file_extension": ".py",
   "mimetype": "text/x-python",
   "name": "python",
   "nbconvert_exporter": "python",
   "pygments_lexer": "ipython2",
   "version": "2.7.16"
  },
  "widgets": {
   "state": {},
   "version": "1.1.2"
  }
 },
 "nbformat": 4,
 "nbformat_minor": 2
}
